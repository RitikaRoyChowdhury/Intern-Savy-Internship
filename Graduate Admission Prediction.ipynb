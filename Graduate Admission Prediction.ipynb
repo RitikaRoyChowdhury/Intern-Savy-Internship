{
 "cells": [
  {
   "cell_type": "markdown",
   "id": "0e95b22c",
   "metadata": {},
   "source": [
    "# Predict Graduate Admissions"
   ]
  },
  {
   "cell_type": "markdown",
   "id": "12a741b5",
   "metadata": {},
   "source": [
    "AUTHOR- RITIKA ROY CHOWDHURY"
   ]
  },
  {
   "cell_type": "markdown",
   "id": "6162cf19",
   "metadata": {},
   "source": [
    "**Probelm Statement** This dataset is created for prediction of Graduate Admissions from an Indian perspective.\n",
    "\n",
    "**Content** The dataset contains several parameters which are considered important during the application for Masters Programs. The parameters included are :\n",
    "\n",
    "1. GRE Scores ( out of 340 )\n",
    "2. TOEFL Scores ( out of 120 )\n",
    "3. University Rating ( out of 5 )\n",
    "4. Statement of Purpose and Letter of Recommendation Strength ( out of 5 )\n",
    "5. Undergraduate GPA ( out of 10 )\n",
    "6. Research Experience ( either 0 or 1 )\n",
    "7. Chance of Admit ( ranging from 0 to 1 ) is the Target Variable\n",
    "\n",
    "**Models**\n",
    "\n",
    "1. Logistic Regression\n",
    "2. Random Forest\n",
    "3. Support Vector Machine\n",
    "\n",
    "This Model will help Beginners as well Intermediate ML Practitioners models will be introduced. Also measure the accuracy of models that are built by using Machine Learning, and further development will be assessed."
   ]
  },
  {
   "cell_type": "markdown",
   "id": "1748265b",
   "metadata": {},
   "source": [
    "## 1. Load the Data and Analysis of Variables "
   ]
  },
  {
   "cell_type": "code",
   "execution_count": 1,
   "id": "79ab3e61",
   "metadata": {},
   "outputs": [],
   "source": [
    "## Load the Libraries \n",
    "\n",
    "import numpy as np\n",
    "import pandas as pd"
   ]
  },
  {
   "cell_type": "code",
   "execution_count": 2,
   "id": "2288f320",
   "metadata": {},
   "outputs": [
    {
     "name": "stdout",
     "output_type": "stream",
     "text": [
      "Column names:\n",
      "['Serial No.', 'GRE Score', 'TOEFL Score', 'University Rating', 'SOP', 'LOR ', 'CGPA', 'Research', 'Chance of Admit ']\n",
      "\n",
      "Sample Data:\n",
      "   Serial No.  GRE Score  TOEFL Score  University Rating  SOP  LOR   CGPA  \\\n",
      "0           1        337          118                  4  4.5   4.5  9.65   \n",
      "1           2        324          107                  4  4.0   4.5  8.87   \n",
      "2           3        316          104                  3  3.0   3.5  8.00   \n",
      "3           4        322          110                  3  3.5   2.5  8.67   \n",
      "4           5        314          103                  2  2.0   3.0  8.21   \n",
      "\n",
      "   Research  Chance of Admit   \n",
      "0         1              0.92  \n",
      "1         1              0.76  \n",
      "2         1              0.72  \n",
      "3         1              0.80  \n",
      "4         0              0.65  \n"
     ]
    }
   ],
   "source": [
    "# Read the Data and check the Column Names to check the Space in the Names\n",
    "df=pd.read_csv(\"Downloads/Admission_Predict_Ver1.1.csv\")\n",
    "col_names=df.columns.tolist()\n",
    "print(\"Column names:\")\n",
    "print(col_names)\n",
    "print(\"\\nSample Data:\")\n",
    "print(df.head())"
   ]
  },
  {
   "cell_type": "raw",
   "id": "82d1a240",
   "metadata": {},
   "source": [
    "1.As we said there were Space in Chance of Admit Variable\n",
    "2.Serial No has Full stop Sign name it as no\n",
    "3.Change the other variable into lowercase for easy to use"
   ]
  },
  {
   "cell_type": "markdown",
   "id": "7f2dbbde",
   "metadata": {},
   "source": [
    "### Rename columns to make their use easier."
   ]
  },
  {
   "cell_type": "code",
   "execution_count": 3,
   "id": "0a66c2ff",
   "metadata": {},
   "outputs": [],
   "source": [
    "df=df.rename(columns={'Serial No.':'no','GRE Score':'gre','TOEFL Score':'toefl','University Rating':'rating','SOP':'sop','LOR ':'lor',\n",
    "                           'CGPA':'gpa','Research':'research','Chance of Admit ':'chance'})"
   ]
  },
  {
   "cell_type": "markdown",
   "id": "3a54cf3a",
   "metadata": {},
   "source": [
    "### The type of columns can be found as follows: "
   ]
  },
  {
   "cell_type": "code",
   "execution_count": 4,
   "id": "4c200121",
   "metadata": {},
   "outputs": [
    {
     "data": {
      "text/plain": [
       "no            int64\n",
       "gre           int64\n",
       "toefl         int64\n",
       "rating        int64\n",
       "sop         float64\n",
       "lor         float64\n",
       "gpa         float64\n",
       "research      int64\n",
       "chance      float64\n",
       "dtype: object"
      ]
     },
     "execution_count": 4,
     "metadata": {},
     "output_type": "execute_result"
    }
   ],
   "source": [
    "df.dtypes"
   ]
  },
  {
   "cell_type": "markdown",
   "id": "e2b51678",
   "metadata": {},
   "source": [
    "### Check shape of the data and whether there exist missing values: "
   ]
  },
  {
   "cell_type": "code",
   "execution_count": 5,
   "id": "5b46d248",
   "metadata": {},
   "outputs": [
    {
     "name": "stdout",
     "output_type": "stream",
     "text": [
      "Shape of the data:\n"
     ]
    },
    {
     "data": {
      "text/plain": [
       "(500, 9)"
      ]
     },
     "execution_count": 5,
     "metadata": {},
     "output_type": "execute_result"
    }
   ],
   "source": [
    "print('Shape of the data:')\n",
    "df.shape"
   ]
  },
  {
   "cell_type": "code",
   "execution_count": 6,
   "id": "6cad7381",
   "metadata": {},
   "outputs": [
    {
     "name": "stdout",
     "output_type": "stream",
     "text": [
      "Missing values in columns:\n"
     ]
    },
    {
     "data": {
      "text/plain": [
       "no          0\n",
       "gre         0\n",
       "toefl       0\n",
       "rating      0\n",
       "sop         0\n",
       "lor         0\n",
       "gpa         0\n",
       "research    0\n",
       "chance      0\n",
       "dtype: int64"
      ]
     },
     "execution_count": 6,
     "metadata": {},
     "output_type": "execute_result"
    }
   ],
   "source": [
    "print('Missing values in columns:')\n",
    "df.isnull().sum()"
   ]
  },
  {
   "cell_type": "markdown",
   "id": "8b0458b0",
   "metadata": {},
   "source": [
    "**Fortunately, data has no missing values**\n",
    "\n",
    "The \"chance\" column is the outcome variable and takes value between 0 and 1. 1 represents that the subject is admitted to the program while 0 represents rejected applications. Problem can be classified as a binary classification problem where outcome probability refers to the probability of subject being admitted to the program. Since only chance of admission is provided, the analysis will continue as a prediction analysis of chance of admission."
   ]
  },
  {
   "cell_type": "markdown",
   "id": "4cd96735",
   "metadata": {},
   "source": [
    "# Data Exploration"
   ]
  },
  {
   "cell_type": "markdown",
   "id": "43dd6bb8",
   "metadata": {},
   "source": [
    "First of all, let us see the basic statistics of the data."
   ]
  },
  {
   "cell_type": "code",
   "execution_count": 7,
   "id": "75d07565",
   "metadata": {},
   "outputs": [
    {
     "data": {
      "text/html": [
       "<div>\n",
       "<style scoped>\n",
       "    .dataframe tbody tr th:only-of-type {\n",
       "        vertical-align: middle;\n",
       "    }\n",
       "\n",
       "    .dataframe tbody tr th {\n",
       "        vertical-align: top;\n",
       "    }\n",
       "\n",
       "    .dataframe thead th {\n",
       "        text-align: right;\n",
       "    }\n",
       "</style>\n",
       "<table border=\"1\" class=\"dataframe\">\n",
       "  <thead>\n",
       "    <tr style=\"text-align: right;\">\n",
       "      <th></th>\n",
       "      <th>no</th>\n",
       "      <th>gre</th>\n",
       "      <th>toefl</th>\n",
       "      <th>rating</th>\n",
       "      <th>sop</th>\n",
       "      <th>lor</th>\n",
       "      <th>gpa</th>\n",
       "      <th>research</th>\n",
       "      <th>chance</th>\n",
       "    </tr>\n",
       "  </thead>\n",
       "  <tbody>\n",
       "    <tr>\n",
       "      <th>count</th>\n",
       "      <td>500.000000</td>\n",
       "      <td>500.000000</td>\n",
       "      <td>500.000000</td>\n",
       "      <td>500.000000</td>\n",
       "      <td>500.000000</td>\n",
       "      <td>500.00000</td>\n",
       "      <td>500.000000</td>\n",
       "      <td>500.000000</td>\n",
       "      <td>500.00000</td>\n",
       "    </tr>\n",
       "    <tr>\n",
       "      <th>mean</th>\n",
       "      <td>250.500000</td>\n",
       "      <td>316.472000</td>\n",
       "      <td>107.192000</td>\n",
       "      <td>3.114000</td>\n",
       "      <td>3.374000</td>\n",
       "      <td>3.48400</td>\n",
       "      <td>8.576440</td>\n",
       "      <td>0.560000</td>\n",
       "      <td>0.72174</td>\n",
       "    </tr>\n",
       "    <tr>\n",
       "      <th>std</th>\n",
       "      <td>144.481833</td>\n",
       "      <td>11.295148</td>\n",
       "      <td>6.081868</td>\n",
       "      <td>1.143512</td>\n",
       "      <td>0.991004</td>\n",
       "      <td>0.92545</td>\n",
       "      <td>0.604813</td>\n",
       "      <td>0.496884</td>\n",
       "      <td>0.14114</td>\n",
       "    </tr>\n",
       "    <tr>\n",
       "      <th>min</th>\n",
       "      <td>1.000000</td>\n",
       "      <td>290.000000</td>\n",
       "      <td>92.000000</td>\n",
       "      <td>1.000000</td>\n",
       "      <td>1.000000</td>\n",
       "      <td>1.00000</td>\n",
       "      <td>6.800000</td>\n",
       "      <td>0.000000</td>\n",
       "      <td>0.34000</td>\n",
       "    </tr>\n",
       "    <tr>\n",
       "      <th>25%</th>\n",
       "      <td>125.750000</td>\n",
       "      <td>308.000000</td>\n",
       "      <td>103.000000</td>\n",
       "      <td>2.000000</td>\n",
       "      <td>2.500000</td>\n",
       "      <td>3.00000</td>\n",
       "      <td>8.127500</td>\n",
       "      <td>0.000000</td>\n",
       "      <td>0.63000</td>\n",
       "    </tr>\n",
       "    <tr>\n",
       "      <th>50%</th>\n",
       "      <td>250.500000</td>\n",
       "      <td>317.000000</td>\n",
       "      <td>107.000000</td>\n",
       "      <td>3.000000</td>\n",
       "      <td>3.500000</td>\n",
       "      <td>3.50000</td>\n",
       "      <td>8.560000</td>\n",
       "      <td>1.000000</td>\n",
       "      <td>0.72000</td>\n",
       "    </tr>\n",
       "    <tr>\n",
       "      <th>75%</th>\n",
       "      <td>375.250000</td>\n",
       "      <td>325.000000</td>\n",
       "      <td>112.000000</td>\n",
       "      <td>4.000000</td>\n",
       "      <td>4.000000</td>\n",
       "      <td>4.00000</td>\n",
       "      <td>9.040000</td>\n",
       "      <td>1.000000</td>\n",
       "      <td>0.82000</td>\n",
       "    </tr>\n",
       "    <tr>\n",
       "      <th>max</th>\n",
       "      <td>500.000000</td>\n",
       "      <td>340.000000</td>\n",
       "      <td>120.000000</td>\n",
       "      <td>5.000000</td>\n",
       "      <td>5.000000</td>\n",
       "      <td>5.00000</td>\n",
       "      <td>9.920000</td>\n",
       "      <td>1.000000</td>\n",
       "      <td>0.97000</td>\n",
       "    </tr>\n",
       "  </tbody>\n",
       "</table>\n",
       "</div>"
      ],
      "text/plain": [
       "               no         gre       toefl      rating         sop        lor  \\\n",
       "count  500.000000  500.000000  500.000000  500.000000  500.000000  500.00000   \n",
       "mean   250.500000  316.472000  107.192000    3.114000    3.374000    3.48400   \n",
       "std    144.481833   11.295148    6.081868    1.143512    0.991004    0.92545   \n",
       "min      1.000000  290.000000   92.000000    1.000000    1.000000    1.00000   \n",
       "25%    125.750000  308.000000  103.000000    2.000000    2.500000    3.00000   \n",
       "50%    250.500000  317.000000  107.000000    3.000000    3.500000    3.50000   \n",
       "75%    375.250000  325.000000  112.000000    4.000000    4.000000    4.00000   \n",
       "max    500.000000  340.000000  120.000000    5.000000    5.000000    5.00000   \n",
       "\n",
       "              gpa    research     chance  \n",
       "count  500.000000  500.000000  500.00000  \n",
       "mean     8.576440    0.560000    0.72174  \n",
       "std      0.604813    0.496884    0.14114  \n",
       "min      6.800000    0.000000    0.34000  \n",
       "25%      8.127500    0.000000    0.63000  \n",
       "50%      8.560000    1.000000    0.72000  \n",
       "75%      9.040000    1.000000    0.82000  \n",
       "max      9.920000    1.000000    0.97000  "
      ]
     },
     "execution_count": 7,
     "metadata": {},
     "output_type": "execute_result"
    }
   ],
   "source": [
    "df.describe()"
   ]
  },
  {
   "cell_type": "markdown",
   "id": "9ab1e46f",
   "metadata": {},
   "source": [
    "This shows some descriptive statistics on the data set. Notice, it only shows the statistics on the numerical columns. From here you can see the following statistics:\n",
    "\n",
    "Row count, which aligns to what the shape attribute showed us.\n",
    "\n",
    "1. The mean, or average.\n",
    "2. 50% aka Median it is very import to understand Skeweness of the Data\n",
    "3. The standard deviation, or how spread out the data is.\n",
    "4. The minimum and maximum value of each column\n",
    "5. The number of items that fall within the first, second, and third percentiles.\n",
    "\n",
    "Second, let us analyze the distribution of subjects' chance of admit in the data. Let us see how rating affects chance of admission:"
   ]
  },
  {
   "cell_type": "code",
   "execution_count": 8,
   "id": "29266ce7",
   "metadata": {},
   "outputs": [
    {
     "data": {
      "text/html": [
       "<div>\n",
       "<style scoped>\n",
       "    .dataframe tbody tr th:only-of-type {\n",
       "        vertical-align: middle;\n",
       "    }\n",
       "\n",
       "    .dataframe tbody tr th {\n",
       "        vertical-align: top;\n",
       "    }\n",
       "\n",
       "    .dataframe thead th {\n",
       "        text-align: right;\n",
       "    }\n",
       "</style>\n",
       "<table border=\"1\" class=\"dataframe\">\n",
       "  <thead>\n",
       "    <tr style=\"text-align: right;\">\n",
       "      <th></th>\n",
       "      <th>no</th>\n",
       "      <th>gre</th>\n",
       "      <th>toefl</th>\n",
       "      <th>sop</th>\n",
       "      <th>lor</th>\n",
       "      <th>gpa</th>\n",
       "      <th>research</th>\n",
       "      <th>chance</th>\n",
       "    </tr>\n",
       "    <tr>\n",
       "      <th>rating</th>\n",
       "      <th></th>\n",
       "      <th></th>\n",
       "      <th></th>\n",
       "      <th></th>\n",
       "      <th></th>\n",
       "      <th></th>\n",
       "      <th></th>\n",
       "      <th></th>\n",
       "    </tr>\n",
       "  </thead>\n",
       "  <tbody>\n",
       "    <tr>\n",
       "      <th>1</th>\n",
       "      <td>281.558824</td>\n",
       "      <td>304.911765</td>\n",
       "      <td>100.205882</td>\n",
       "      <td>1.941176</td>\n",
       "      <td>2.426471</td>\n",
       "      <td>7.798529</td>\n",
       "      <td>0.294118</td>\n",
       "      <td>0.562059</td>\n",
       "    </tr>\n",
       "    <tr>\n",
       "      <th>2</th>\n",
       "      <td>249.555556</td>\n",
       "      <td>309.134921</td>\n",
       "      <td>103.444444</td>\n",
       "      <td>2.682540</td>\n",
       "      <td>2.956349</td>\n",
       "      <td>8.177778</td>\n",
       "      <td>0.293651</td>\n",
       "      <td>0.626111</td>\n",
       "    </tr>\n",
       "    <tr>\n",
       "      <th>3</th>\n",
       "      <td>247.574074</td>\n",
       "      <td>315.030864</td>\n",
       "      <td>106.314815</td>\n",
       "      <td>3.308642</td>\n",
       "      <td>3.401235</td>\n",
       "      <td>8.500123</td>\n",
       "      <td>0.537037</td>\n",
       "      <td>0.702901</td>\n",
       "    </tr>\n",
       "    <tr>\n",
       "      <th>4</th>\n",
       "      <td>275.809524</td>\n",
       "      <td>323.304762</td>\n",
       "      <td>110.961905</td>\n",
       "      <td>4.000000</td>\n",
       "      <td>3.947619</td>\n",
       "      <td>8.936667</td>\n",
       "      <td>0.780952</td>\n",
       "      <td>0.801619</td>\n",
       "    </tr>\n",
       "    <tr>\n",
       "      <th>5</th>\n",
       "      <td>207.753425</td>\n",
       "      <td>327.890411</td>\n",
       "      <td>113.438356</td>\n",
       "      <td>4.479452</td>\n",
       "      <td>4.404110</td>\n",
       "      <td>9.278082</td>\n",
       "      <td>0.876712</td>\n",
       "      <td>0.888082</td>\n",
       "    </tr>\n",
       "  </tbody>\n",
       "</table>\n",
       "</div>"
      ],
      "text/plain": [
       "                no         gre       toefl       sop       lor       gpa  \\\n",
       "rating                                                                     \n",
       "1       281.558824  304.911765  100.205882  1.941176  2.426471  7.798529   \n",
       "2       249.555556  309.134921  103.444444  2.682540  2.956349  8.177778   \n",
       "3       247.574074  315.030864  106.314815  3.308642  3.401235  8.500123   \n",
       "4       275.809524  323.304762  110.961905  4.000000  3.947619  8.936667   \n",
       "5       207.753425  327.890411  113.438356  4.479452  4.404110  9.278082   \n",
       "\n",
       "        research    chance  \n",
       "rating                      \n",
       "1       0.294118  0.562059  \n",
       "2       0.293651  0.626111  \n",
       "3       0.537037  0.702901  \n",
       "4       0.780952  0.801619  \n",
       "5       0.876712  0.888082  "
      ]
     },
     "execution_count": 8,
     "metadata": {},
     "output_type": "execute_result"
    }
   ],
   "source": [
    "df.groupby('rating').mean()"
   ]
  },
  {
   "cell_type": "markdown",
   "id": "144e09a6",
   "metadata": {},
   "source": [
    "Average chance of admission of subjects which applied to program with rating 1 is less than that of the subjects which applied to program with higher ratings. Now let us analyze the subjects with more than 82% of chance which is the third quartile of the chance data."
   ]
  },
  {
   "cell_type": "code",
   "execution_count": 9,
   "id": "c31a0d04",
   "metadata": {},
   "outputs": [
    {
     "data": {
      "text/html": [
       "<div>\n",
       "<style scoped>\n",
       "    .dataframe tbody tr th:only-of-type {\n",
       "        vertical-align: middle;\n",
       "    }\n",
       "\n",
       "    .dataframe tbody tr th {\n",
       "        vertical-align: top;\n",
       "    }\n",
       "\n",
       "    .dataframe thead th {\n",
       "        text-align: right;\n",
       "    }\n",
       "</style>\n",
       "<table border=\"1\" class=\"dataframe\">\n",
       "  <thead>\n",
       "    <tr style=\"text-align: right;\">\n",
       "      <th></th>\n",
       "      <th>no</th>\n",
       "      <th>gre</th>\n",
       "      <th>toefl</th>\n",
       "      <th>rating</th>\n",
       "      <th>sop</th>\n",
       "      <th>lor</th>\n",
       "      <th>gpa</th>\n",
       "      <th>research</th>\n",
       "    </tr>\n",
       "    <tr>\n",
       "      <th>chance</th>\n",
       "      <th></th>\n",
       "      <th></th>\n",
       "      <th></th>\n",
       "      <th></th>\n",
       "      <th></th>\n",
       "      <th></th>\n",
       "      <th></th>\n",
       "      <th></th>\n",
       "    </tr>\n",
       "  </thead>\n",
       "  <tbody>\n",
       "    <tr>\n",
       "      <th>0.83</th>\n",
       "      <td>309.000000</td>\n",
       "      <td>326.500000</td>\n",
       "      <td>112.750000</td>\n",
       "      <td>3.750000</td>\n",
       "      <td>3.875000</td>\n",
       "      <td>3.750000</td>\n",
       "      <td>9.032500</td>\n",
       "      <td>0.750000</td>\n",
       "    </tr>\n",
       "    <tr>\n",
       "      <th>0.84</th>\n",
       "      <td>255.636364</td>\n",
       "      <td>323.909091</td>\n",
       "      <td>109.636364</td>\n",
       "      <td>3.454545</td>\n",
       "      <td>3.818182</td>\n",
       "      <td>3.772727</td>\n",
       "      <td>9.032727</td>\n",
       "      <td>0.909091</td>\n",
       "    </tr>\n",
       "    <tr>\n",
       "      <th>0.85</th>\n",
       "      <td>229.000000</td>\n",
       "      <td>322.000000</td>\n",
       "      <td>111.500000</td>\n",
       "      <td>3.666667</td>\n",
       "      <td>4.083333</td>\n",
       "      <td>4.166667</td>\n",
       "      <td>9.041667</td>\n",
       "      <td>0.833333</td>\n",
       "    </tr>\n",
       "    <tr>\n",
       "      <th>0.86</th>\n",
       "      <td>246.900000</td>\n",
       "      <td>325.400000</td>\n",
       "      <td>114.400000</td>\n",
       "      <td>4.200000</td>\n",
       "      <td>4.300000</td>\n",
       "      <td>4.300000</td>\n",
       "      <td>9.124000</td>\n",
       "      <td>0.900000</td>\n",
       "    </tr>\n",
       "    <tr>\n",
       "      <th>0.87</th>\n",
       "      <td>273.750000</td>\n",
       "      <td>325.625000</td>\n",
       "      <td>111.125000</td>\n",
       "      <td>4.625000</td>\n",
       "      <td>4.375000</td>\n",
       "      <td>4.187500</td>\n",
       "      <td>9.101250</td>\n",
       "      <td>0.875000</td>\n",
       "    </tr>\n",
       "    <tr>\n",
       "      <th>0.88</th>\n",
       "      <td>127.000000</td>\n",
       "      <td>323.000000</td>\n",
       "      <td>110.750000</td>\n",
       "      <td>5.000000</td>\n",
       "      <td>4.875000</td>\n",
       "      <td>4.500000</td>\n",
       "      <td>9.152500</td>\n",
       "      <td>1.000000</td>\n",
       "    </tr>\n",
       "    <tr>\n",
       "      <th>0.89</th>\n",
       "      <td>269.000000</td>\n",
       "      <td>328.636364</td>\n",
       "      <td>113.545455</td>\n",
       "      <td>4.363636</td>\n",
       "      <td>4.318182</td>\n",
       "      <td>4.136364</td>\n",
       "      <td>9.270909</td>\n",
       "      <td>0.909091</td>\n",
       "    </tr>\n",
       "    <tr>\n",
       "      <th>0.90</th>\n",
       "      <td>186.777778</td>\n",
       "      <td>330.555556</td>\n",
       "      <td>116.111111</td>\n",
       "      <td>4.000000</td>\n",
       "      <td>4.500000</td>\n",
       "      <td>4.111111</td>\n",
       "      <td>9.324444</td>\n",
       "      <td>1.000000</td>\n",
       "    </tr>\n",
       "    <tr>\n",
       "      <th>0.91</th>\n",
       "      <td>267.400000</td>\n",
       "      <td>330.500000</td>\n",
       "      <td>115.000000</td>\n",
       "      <td>4.500000</td>\n",
       "      <td>4.250000</td>\n",
       "      <td>4.450000</td>\n",
       "      <td>9.328000</td>\n",
       "      <td>1.000000</td>\n",
       "    </tr>\n",
       "    <tr>\n",
       "      <th>0.92</th>\n",
       "      <td>226.888889</td>\n",
       "      <td>328.555556</td>\n",
       "      <td>114.888889</td>\n",
       "      <td>4.777778</td>\n",
       "      <td>4.388889</td>\n",
       "      <td>4.500000</td>\n",
       "      <td>9.417778</td>\n",
       "      <td>1.000000</td>\n",
       "    </tr>\n",
       "    <tr>\n",
       "      <th>0.93</th>\n",
       "      <td>268.833333</td>\n",
       "      <td>330.583333</td>\n",
       "      <td>115.916667</td>\n",
       "      <td>4.583333</td>\n",
       "      <td>4.583333</td>\n",
       "      <td>4.250000</td>\n",
       "      <td>9.477500</td>\n",
       "      <td>1.000000</td>\n",
       "    </tr>\n",
       "    <tr>\n",
       "      <th>0.94</th>\n",
       "      <td>160.846154</td>\n",
       "      <td>334.230769</td>\n",
       "      <td>116.692308</td>\n",
       "      <td>4.846154</td>\n",
       "      <td>4.692308</td>\n",
       "      <td>4.846154</td>\n",
       "      <td>9.533077</td>\n",
       "      <td>1.000000</td>\n",
       "    </tr>\n",
       "    <tr>\n",
       "      <th>0.95</th>\n",
       "      <td>288.000000</td>\n",
       "      <td>336.200000</td>\n",
       "      <td>118.000000</td>\n",
       "      <td>4.400000</td>\n",
       "      <td>4.900000</td>\n",
       "      <td>4.400000</td>\n",
       "      <td>9.540000</td>\n",
       "      <td>1.000000</td>\n",
       "    </tr>\n",
       "    <tr>\n",
       "      <th>0.96</th>\n",
       "      <td>239.500000</td>\n",
       "      <td>337.375000</td>\n",
       "      <td>116.000000</td>\n",
       "      <td>4.625000</td>\n",
       "      <td>4.750000</td>\n",
       "      <td>4.687500</td>\n",
       "      <td>9.753750</td>\n",
       "      <td>1.000000</td>\n",
       "    </tr>\n",
       "    <tr>\n",
       "      <th>0.97</th>\n",
       "      <td>144.000000</td>\n",
       "      <td>337.500000</td>\n",
       "      <td>119.750000</td>\n",
       "      <td>4.750000</td>\n",
       "      <td>4.250000</td>\n",
       "      <td>4.250000</td>\n",
       "      <td>9.875000</td>\n",
       "      <td>1.000000</td>\n",
       "    </tr>\n",
       "  </tbody>\n",
       "</table>\n",
       "</div>"
      ],
      "text/plain": [
       "                no         gre       toefl    rating       sop       lor  \\\n",
       "chance                                                                     \n",
       "0.83    309.000000  326.500000  112.750000  3.750000  3.875000  3.750000   \n",
       "0.84    255.636364  323.909091  109.636364  3.454545  3.818182  3.772727   \n",
       "0.85    229.000000  322.000000  111.500000  3.666667  4.083333  4.166667   \n",
       "0.86    246.900000  325.400000  114.400000  4.200000  4.300000  4.300000   \n",
       "0.87    273.750000  325.625000  111.125000  4.625000  4.375000  4.187500   \n",
       "0.88    127.000000  323.000000  110.750000  5.000000  4.875000  4.500000   \n",
       "0.89    269.000000  328.636364  113.545455  4.363636  4.318182  4.136364   \n",
       "0.90    186.777778  330.555556  116.111111  4.000000  4.500000  4.111111   \n",
       "0.91    267.400000  330.500000  115.000000  4.500000  4.250000  4.450000   \n",
       "0.92    226.888889  328.555556  114.888889  4.777778  4.388889  4.500000   \n",
       "0.93    268.833333  330.583333  115.916667  4.583333  4.583333  4.250000   \n",
       "0.94    160.846154  334.230769  116.692308  4.846154  4.692308  4.846154   \n",
       "0.95    288.000000  336.200000  118.000000  4.400000  4.900000  4.400000   \n",
       "0.96    239.500000  337.375000  116.000000  4.625000  4.750000  4.687500   \n",
       "0.97    144.000000  337.500000  119.750000  4.750000  4.250000  4.250000   \n",
       "\n",
       "             gpa  research  \n",
       "chance                      \n",
       "0.83    9.032500  0.750000  \n",
       "0.84    9.032727  0.909091  \n",
       "0.85    9.041667  0.833333  \n",
       "0.86    9.124000  0.900000  \n",
       "0.87    9.101250  0.875000  \n",
       "0.88    9.152500  1.000000  \n",
       "0.89    9.270909  0.909091  \n",
       "0.90    9.324444  1.000000  \n",
       "0.91    9.328000  1.000000  \n",
       "0.92    9.417778  1.000000  \n",
       "0.93    9.477500  1.000000  \n",
       "0.94    9.533077  1.000000  \n",
       "0.95    9.540000  1.000000  \n",
       "0.96    9.753750  1.000000  \n",
       "0.97    9.875000  1.000000  "
      ]
     },
     "execution_count": 9,
     "metadata": {},
     "output_type": "execute_result"
    }
   ],
   "source": [
    "df[df['chance']>0.82].groupby('chance').mean()"
   ]
  },
  {
   "cell_type": "markdown",
   "id": "372ea2c1",
   "metadata": {},
   "source": [
    "## Several observations:\n",
    "1. Average GPAs of those with higher level of chance to admit is greater than 9 where the data average is 8.57.\n",
    "2. Average LOR, SOP, GRE and TOEFL grades of those with higher level of chance to admit is greater than the data average.\n",
    "3. Research Shows us 75% Research Experience so there may be chances to Reject the Application in the next we take more than 83% "
   ]
  },
  {
   "cell_type": "markdown",
   "id": "4886e5ff",
   "metadata": {},
   "source": [
    "# Data Visualization"
   ]
  },
  {
   "cell_type": "markdown",
   "id": "e867265a",
   "metadata": {},
   "source": [
    "## Histogram of Admission Chance "
   ]
  },
  {
   "cell_type": "markdown",
   "id": "de8ce0b8",
   "metadata": {},
   "source": [
    "Let us visualize our data to get a much clearer picture of the data and the significant features."
   ]
  },
  {
   "cell_type": "code",
   "execution_count": 10,
   "id": "ecf4d7c0",
   "metadata": {},
   "outputs": [
    {
     "data": {
      "image/png": "[encoded data removed]",
      "text/plain": [
       "<Figure size 432x288 with 1 Axes>"
      ]
     },
     "metadata": {
      "needs_background": "light"
     },
     "output_type": "display_data"
    }
   ],
   "source": [
    "import matplotlib.pyplot as plt\n",
    "plt.figure(figsize=(6,4))\n",
    "plt.hist(df['chance'],bins=10,color=\"orange\")\n",
    "plt.title('Histogram of Admission Chance')\n",
    "plt.xlabel('Admission Chance')\n",
    "plt.ylabel('Frequency of Chance')\n",
    "plt.show()"
   ]
  },
  {
   "cell_type": "markdown",
   "id": "27e4af40",
   "metadata": {},
   "source": [
    "Histogram shows us that 'chance of admission' column is well distributed in data."
   ]
  },
  {
   "cell_type": "markdown",
   "id": "9e9017f7",
   "metadata": {},
   "source": [
    "## Line Plot for Research Output and The Chance of Admission "
   ]
  },
  {
   "cell_type": "code",
   "execution_count": 11,
   "id": "4bdc065e",
   "metadata": {},
   "outputs": [
    {
     "data": {
      "image/png": "[encoded data removed]",
      "text/plain": [
       "<Figure size 864x576 with 1 Axes>"
      ]
     },
     "metadata": {
      "needs_background": "light"
     },
     "output_type": "display_data"
    }
   ],
   "source": [
    "plt.figure(figsize=(12,8))\n",
    "plt.plot(range(len(df[df['research']==1])), df[df['research']==1]['chance'], color='orange')\n",
    "plt.plot(range(len(df[df['research']==0])), df[df['research']==0]['chance'], color='olive')\n",
    "plt.show()"
   ]
  },
  {
   "cell_type": "markdown",
   "id": "3dd20812",
   "metadata": {},
   "source": [
    "The chance of admission depends a great deal on the subjects' research output; hence, research can be a good predictor in predicting the outcome."
   ]
  },
  {
   "cell_type": "markdown",
   "id": "4a707da9",
   "metadata": {},
   "source": [
    "## Scatter Plot of University Rating and The Chance of Admission "
   ]
  },
  {
   "cell_type": "code",
   "execution_count": 12,
   "id": "c58e696d",
   "metadata": {},
   "outputs": [
    {
     "data": {
      "image/png": "[encoded data removed]",
      "text/plain": [
       "<Figure size 864x576 with 1 Axes>"
      ]
     },
     "metadata": {
      "needs_background": "light"
     },
     "output_type": "display_data"
    }
   ],
   "source": [
    "df.boxplot(column='chance',by='rating',grid=False,figsize=(12,8))\n",
    "plt.title('The Chance of Admission for University Ratings')\n",
    "plt.xlabel('University Rating')\n",
    "plt.ylabel('Chance of Admission')\n",
    "plt.show()"
   ]
  },
  {
   "cell_type": "markdown",
   "id": "78273dfc",
   "metadata": {},
   "source": [
    "As it can be seen from the boxplot chart, chance of admission is higher within the applicants of lower rated (5) universities."
   ]
  },
  {
   "cell_type": "markdown",
   "id": "e890f48c",
   "metadata": {},
   "source": [
    "## Histogram of Numeric Variables "
   ]
  },
  {
   "cell_type": "code",
   "execution_count": 13,
   "id": "5824016b",
   "metadata": {},
   "outputs": [
    {
     "data": {
      "image/png": "[encoded data removed]",
      "text/plain": [
       "<Figure size 1440x1080 with 9 Axes>"
      ]
     },
     "metadata": {
      "needs_background": "light"
     },
     "output_type": "display_data"
    }
   ],
   "source": [
    "df.hist(bins=10, figsize=(20,15))\n",
    "plt.show()"
   ]
  },
  {
   "cell_type": "markdown",
   "id": "54094a7c",
   "metadata": {},
   "source": [
    "# Data Preperation "
   ]
  },
  {
   "cell_type": "markdown",
   "id": "38c383ba",
   "metadata": {},
   "source": [
    "As it can be seen from Data Preprocessing section above, graduate admission data is only include numerical variables. Hence, only the following steps should be implemented before model devolopment:\n",
    "\n",
    "1. The outcome variable is 'chance', and all other features are predictors.\n",
    "2. 'no' variable should be dropped from dataset since it only indicator of the instances (means ID Column)"
   ]
  },
  {
   "cell_type": "code",
   "execution_count": 14,
   "id": "ad3691a2",
   "metadata": {},
   "outputs": [
    {
     "data": {
      "text/plain": [
       "no            int64\n",
       "gre           int64\n",
       "toefl         int64\n",
       "rating        int64\n",
       "sop         float64\n",
       "lor         float64\n",
       "gpa         float64\n",
       "research      int64\n",
       "chance      float64\n",
       "dtype: object"
      ]
     },
     "execution_count": 14,
     "metadata": {},
     "output_type": "execute_result"
    }
   ],
   "source": [
    "df.dtypes"
   ]
  },
  {
   "cell_type": "code",
   "execution_count": 15,
   "id": "310e1d5f",
   "metadata": {},
   "outputs": [],
   "source": [
    "df.drop(['no'],axis=1,inplace=True)\n",
    "var=df.columns.values.tolist()\n",
    "y=df['chance']\n",
    "x=[i for i in var if i not in ['chance']]\n",
    "x=df[x]"
   ]
  },
  {
   "cell_type": "markdown",
   "id": "ac28b3b1",
   "metadata": {},
   "source": [
    "Data will be splitted using train_test_split module of scikitlearn library where splitting ratio is chosen as 20% for test data."
   ]
  },
  {
   "cell_type": "code",
   "execution_count": 16,
   "id": "47838edf",
   "metadata": {},
   "outputs": [],
   "source": [
    "from sklearn.model_selection import train_test_split\n",
    "x_train,x_test,y_train,y_test=train_test_split(x,y,test_size=0.2, random_state=0)"
   ]
  },
  {
   "cell_type": "markdown",
   "id": "215d190e",
   "metadata": {},
   "source": [
    "Data normalization is important in order to represent data in comparable scales."
   ]
  },
  {
   "cell_type": "code",
   "execution_count": 17,
   "id": "bd16e88e",
   "metadata": {},
   "outputs": [
    {
     "name": "stderr",
     "output_type": "stream",
     "text": [
      "C:\\Users\\hp\\anaconda3\\lib\\site-packages\\pandas\\core\\frame.py:3678: SettingWithCopyWarning: \n",
      "A value is trying to be set on a copy of a slice from a DataFrame.\n",
      "Try using .loc[row_indexer,col_indexer] = value instead\n",
      "\n",
      "See the caveats in the documentation: https://pandas.pydata.org/pandas-docs/stable/user_guide/indexing.html#returning-a-view-versus-a-copy\n",
      "  self[col] = igetitem(value, i)\n",
      "C:\\Users\\hp\\anaconda3\\lib\\site-packages\\pandas\\core\\frame.py:3678: SettingWithCopyWarning: \n",
      "A value is trying to be set on a copy of a slice from a DataFrame.\n",
      "Try using .loc[row_indexer,col_indexer] = value instead\n",
      "\n",
      "See the caveats in the documentation: https://pandas.pydata.org/pandas-docs/stable/user_guide/indexing.html#returning-a-view-versus-a-copy\n",
      "  self[col] = igetitem(value, i)\n"
     ]
    }
   ],
   "source": [
    "from sklearn.preprocessing import MinMaxScaler\n",
    "xs=MinMaxScaler()\n",
    "x_train[x_train.columns] = xs.fit_transform(x_train[x_train.columns])\n",
    "x_test[x_test.columns] = xs.transform(x_test[x_test.columns])"
   ]
  },
  {
   "cell_type": "markdown",
   "id": "e8e0b1d4",
   "metadata": {},
   "source": [
    "**MIN - MAX Scaler** its Better use always the Scaler methods to improve the Accuracy"
   ]
  },
  {
   "cell_type": "markdown",
   "id": "c6d91644",
   "metadata": {},
   "source": [
    "# Classification Models & Furher Analysis"
   ]
  },
  {
   "cell_type": "markdown",
   "id": "977a973d",
   "metadata": {},
   "source": [
    "In order to make classification models, outcome of the classification is defined as 'status' which takes value of True for the applicants that have more than 83% chance. Third quartile, 83%, is chosen as threshold since median of the chance data, 72%, is pretty high."
   ]
  },
  {
   "cell_type": "code",
   "execution_count": 18,
   "id": "c93b54aa",
   "metadata": {},
   "outputs": [],
   "source": [
    "import numpy as np\n",
    "cy_train=[1 if chance > 0.83 else 0 for chance in y_train]\n",
    "cy_train=np.array(cy_train)\n",
    "\n",
    "cy_test=[1 if chance > 0.83 else 0 for chance in y_test]\n",
    "cy_test=np.array(cy_test)"
   ]
  },
  {
   "cell_type": "markdown",
   "id": "078a07b3",
   "metadata": {},
   "source": [
    "## Logistic Regression "
   ]
  },
  {
   "cell_type": "code",
   "execution_count": 19,
   "id": "cac0af00",
   "metadata": {},
   "outputs": [
    {
     "name": "stdout",
     "output_type": "stream",
     "text": [
      "Logistic regression accuracy: 0.960\n",
      "--------------------------------------\n",
      "              precision    recall  f1-score   support\n",
      "\n",
      "           0       0.97      0.97      0.97        80\n",
      "           1       0.90      0.90      0.90        20\n",
      "\n",
      "    accuracy                           0.96       100\n",
      "   macro avg       0.94      0.94      0.94       100\n",
      "weighted avg       0.96      0.96      0.96       100\n",
      "\n"
     ]
    },
    {
     "name": "stderr",
     "output_type": "stream",
     "text": [
      "C:\\Users\\hp\\anaconda3\\lib\\site-packages\\sklearn\\utils\\validation.py:70: FutureWarning: Pass labels=[1, 0] as keyword args. From version 1.0 (renaming of 0.25) passing these as positional arguments will result in an error\n",
      "  warnings.warn(f\"Pass {args_msg} as keyword args. From version \"\n"
     ]
    },
    {
     "data": {
      "image/png": "[encoded data removed]",
      "text/plain": [
       "<Figure size 432x288 with 2 Axes>"
      ]
     },
     "metadata": {
      "needs_background": "light"
     },
     "output_type": "display_data"
    }
   ],
   "source": [
    "# Fitting logistic regression model\n",
    "from sklearn.linear_model import LogisticRegression\n",
    "lr = LogisticRegression()\n",
    "lr.fit(x_train, cy_train)\n",
    "\n",
    "\n",
    "# Printing accuracy score & confusion matrix\n",
    "from sklearn.metrics import accuracy_score\n",
    "print('Logistic regression accuracy: {:.3f}'.format(accuracy_score(cy_test, lr.predict(x_test))))\n",
    "print('--------------------------------------')\n",
    "from sklearn.metrics import classification_report\n",
    "print(classification_report(cy_test, lr.predict(x_test)))\n",
    "\n",
    "cy = lr.predict(x_test)\n",
    "from sklearn.metrics import confusion_matrix\n",
    "import seaborn as sns\n",
    "lr_confm = confusion_matrix(cy, cy_test, [1,0])\n",
    "sns.heatmap(lr_confm, annot=True, fmt='.2f',xticklabels = [\"Admitted\", \"Rejected\"] , yticklabels = [\"Admitted\", \"Rejected\"] )\n",
    "plt.ylabel('Actual Class')\n",
    "plt.xlabel('Predicted Class')\n",
    "plt.title('Logistic Regression')\n",
    "plt.show()"
   ]
  },
  {
   "cell_type": "markdown",
   "id": "0d4775f9",
   "metadata": {},
   "source": [
    "## Random Forest"
   ]
  },
  {
   "cell_type": "code",
   "execution_count": 20,
   "id": "d685937f",
   "metadata": {},
   "outputs": [
    {
     "name": "stdout",
     "output_type": "stream",
     "text": [
      "Random Forest Accuracy: 0.980\n",
      "--------------------------------------\n",
      "              precision    recall  f1-score   support\n",
      "\n",
      "           0       0.99      0.99      0.99        80\n",
      "           1       0.95      0.95      0.95        20\n",
      "\n",
      "    accuracy                           0.98       100\n",
      "   macro avg       0.97      0.97      0.97       100\n",
      "weighted avg       0.98      0.98      0.98       100\n",
      "\n"
     ]
    },
    {
     "name": "stderr",
     "output_type": "stream",
     "text": [
      "C:\\Users\\hp\\anaconda3\\lib\\site-packages\\sklearn\\utils\\validation.py:70: FutureWarning: Pass labels=[1, 0] as keyword args. From version 1.0 (renaming of 0.25) passing these as positional arguments will result in an error\n",
      "  warnings.warn(f\"Pass {args_msg} as keyword args. From version \"\n"
     ]
    },
    {
     "data": {
      "image/png": "[encoded data removed]",
      "text/plain": [
       "<Figure size 432x288 with 2 Axes>"
      ]
     },
     "metadata": {
      "needs_background": "light"
     },
     "output_type": "display_data"
    }
   ],
   "source": [
    "# Fitting random forest model\n",
    "from sklearn.ensemble import RandomForestClassifier\n",
    "rf = RandomForestClassifier()\n",
    "rf.fit(x_train, cy_train)\n",
    "\n",
    "# Printing accuracy score & confusion matrix\n",
    "print('Random Forest Accuracy: {:.3f}'.format(accuracy_score(cy_test, rf.predict(x_test))))\n",
    "print('--------------------------------------')\n",
    "print(classification_report(cy_test, rf.predict(x_test)))\n",
    "\n",
    "cy = rf.predict(x_test)\n",
    "rf_confm = confusion_matrix(cy, cy_test, [1,0])\n",
    "sns.heatmap(rf_confm, annot=True, fmt='.2f',xticklabels = [\"Admitted\", \"Rejected\"] , yticklabels = [\"Admitted\", \"Rejected\"] )\n",
    "plt.ylabel('True class')\n",
    "plt.xlabel('Predicted class')\n",
    "plt.title('Random Forest')\n",
    "plt.show()"
   ]
  },
  {
   "cell_type": "markdown",
   "id": "ead4e54d",
   "metadata": {},
   "source": [
    "## Support Vector Machine "
   ]
  },
  {
   "cell_type": "code",
   "execution_count": 21,
   "id": "ef3e73fe",
   "metadata": {},
   "outputs": [
    {
     "name": "stdout",
     "output_type": "stream",
     "text": [
      "Support vector machine accuracy: 0.970\n",
      "--------------------------------------\n",
      "              precision    recall  f1-score   support\n",
      "\n",
      "           0       0.98      0.99      0.98        80\n",
      "           1       0.95      0.90      0.92        20\n",
      "\n",
      "    accuracy                           0.97       100\n",
      "   macro avg       0.96      0.94      0.95       100\n",
      "weighted avg       0.97      0.97      0.97       100\n",
      "\n"
     ]
    },
    {
     "name": "stderr",
     "output_type": "stream",
     "text": [
      "C:\\Users\\hp\\anaconda3\\lib\\site-packages\\sklearn\\utils\\validation.py:70: FutureWarning: Pass labels=[1, 0] as keyword args. From version 1.0 (renaming of 0.25) passing these as positional arguments will result in an error\n",
      "  warnings.warn(f\"Pass {args_msg} as keyword args. From version \"\n"
     ]
    },
    {
     "data": {
      "image/png": "[encoded data removed]",
      "text/plain": [
       "<Figure size 432x288 with 2 Axes>"
      ]
     },
     "metadata": {
      "needs_background": "light"
     },
     "output_type": "display_data"
    }
   ],
   "source": [
    "# Fitting support vector machine model\n",
    "from sklearn.svm import SVC\n",
    "svc = SVC()\n",
    "svc.fit(x_train, cy_train)\n",
    "\n",
    "# Printing accuracy score & confusion matrix\n",
    "print('Support vector machine accuracy: {:.3f}'.format(accuracy_score(cy_test, svc.predict(x_test))))\n",
    "print('--------------------------------------')\n",
    "print(classification_report(cy_test, svc.predict(x_test)))\n",
    "\n",
    "cy = svc.predict(x_test)\n",
    "svc_confm = confusion_matrix(cy, cy_test, [1,0])\n",
    "sns.heatmap(svc_confm, annot=True, fmt='.2f',xticklabels = [\"Admitted\", \"Rejected\"] , yticklabels = [\"Admitted\", \"Rejected\"] )\n",
    "plt.ylabel('True class')\n",
    "plt.xlabel('Predicted class')\n",
    "plt.title('Support Vector Machine')\n",
    "plt.show()"
   ]
  },
  {
   "cell_type": "markdown",
   "id": "6243878a",
   "metadata": {},
   "source": [
    "How often does my classifier predict admitted students correctly? This measurement is called “recall” and a quick look at these diagrams can demonstrate that models ara close but logistic regression and support vector machine models are slightly better for this criteria. Out of 20 True admitted applicants, LR and SVM are correctly classified 18 of them which means the models are approximately have 90% of \"recall\".\n",
    "\n",
    "How often does my classifier predict students that will be admitted correctly? This measurement is called “precision” and Random Forest performs slightly better (17 out of 18) than other classifiers.\n",
    "\n",
    "All classifiers have the same accuracy score which is 96%."
   ]
  },
  {
   "cell_type": "markdown",
   "id": "f822b8b4",
   "metadata": {},
   "source": [
    "# Feature Importance for Random Forest Model"
   ]
  },
  {
   "cell_type": "markdown",
   "id": "8935c7e2",
   "metadata": {},
   "source": [
    "In order to represent the most important features which influence whether an applicant is admitted in college, random forest classifier is used."
   ]
  },
  {
   "cell_type": "code",
   "execution_count": 22,
   "id": "b1a8892b",
   "metadata": {},
   "outputs": [
    {
     "name": "stdout",
     "output_type": "stream",
     "text": [
      "gpa         0.366547\n",
      "toefl       0.214301\n",
      "gre         0.189838\n",
      "sop         0.082088\n",
      "lor         0.063436\n",
      "rating      0.055396\n",
      "research    0.028395\n",
      "dtype: float64\n"
     ]
    }
   ],
   "source": [
    "f_imp=pd.Series(rf.feature_importances_,index=x_train.columns).sort_values(ascending=False)\n",
    "print(f_imp)"
   ]
  },
  {
   "cell_type": "code",
   "execution_count": null,
   "id": "5675be7f",
   "metadata": {},
   "outputs": [],
   "source": []
  }
 ],
 "metadata": {
  "kernelspec": {
   "display_name": "Python 3 (ipykernel)",
   "language": "python",
   "name": "python3"
  },
  "language_info": {
   "codemirror_mode": {
    "name": "ipython",
    "version": 3
   },
   "file_extension": ".py",
   "mimetype": "text/x-python",
   "name": "python",
   "nbconvert_exporter": "python",
   "pygments_lexer": "ipython3",
   "version": "3.9.7"
  }
 },
 "nbformat": 4,
 "nbformat_minor": 5
}
